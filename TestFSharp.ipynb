{
 "cells": [
  {
   "cell_type": "markdown",
   "id": "broke-bahamas",
   "metadata": {},
   "source": [
    "# Test the F# Kernel\n",
    "\n",
    "Lets see, if F# is working ..."
   ]
  },
  {
   "cell_type": "code",
   "execution_count": 3,
   "id": "sonic-supplier",
   "metadata": {},
   "outputs": [
    {
     "data": {
      "text/plain": [
       "F# in this notebook is working!"
      ]
     },
     "execution_count": 3,
     "metadata": {},
     "output_type": "execute_result"
    }
   ],
   "source": [
    "let textToShow = \"F# in this notebook is working!\"\n",
    "\n",
    "textToShow"
   ]
  },
  {
   "cell_type": "code",
   "execution_count": 5,
   "id": "incoming-shame",
   "metadata": {},
   "outputs": [
    {
     "name": "stdout",
     "output_type": "stream",
     "text": [
      "And again: F# in this notebook is working!\n"
     ]
    }
   ],
   "source": [
    "printfn \"And again: %s\" textToShow"
   ]
  },
  {
   "cell_type": "code",
   "execution_count": null,
   "id": "joined-combine",
   "metadata": {},
   "outputs": [],
   "source": []
  }
 ],
 "metadata": {
  "kernelspec": {
   "display_name": ".NET (F#)",
   "language": "F#",
   "name": ".net-fsharp"
  },
  "language_info": {
   "file_extension": ".fs",
   "mimetype": "text/x-fsharp",
   "name": "C#",
   "pygments_lexer": "fsharp",
   "version": "4.5"
  }
 },
 "nbformat": 4,
 "nbformat_minor": 5
}
