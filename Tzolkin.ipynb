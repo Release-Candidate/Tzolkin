{
 "cells": [
  {
   "cell_type": "markdown",
   "metadata": {},
   "source": [
    "# Tzolkin\n",
    "\n",
    "A F# Maya Tzolk’in date converter and calculator library.\n",
    "\n",
    "The documentation is at [Read the Docs](https://tzolkin.readthedocs.io/en/latest/), the source code at [GitHub](https://github.com/Release-Candidate/Tzolkin)."
   ]
  },
  {
   "cell_type": "markdown",
   "metadata": {},
   "source": [
    "## Install Package & Basic Usage\n",
    "\n",
    "Download an install the `Tzolkin` Nuget package using your IDE (Visual Studio or JetBrains Rider) or one of the command-line possibilities: [Tzolkin Package at NuGet](https://www.nuget.org/packages/Tzolkin/)\n",
    "\n",
    "In an interactive F# FSI session, you can use the command `#r \"nuget: NUGET_PACKAGE\"` to download and use the nuget package `NUGET_PACKAGE`.\n",
    "\n",
    "\n",
    "To use Tzolkin in this interactive session:"
   ]
  },
  {
   "cell_type": "code",
   "execution_count": 1,
   "metadata": {
    "dotnet_interactive": {
     "language": "fsharp"
    }
   },
   "outputs": [
    {
     "data": {
      "text/html": [
       "\r\n",
       "<div>\r\n",
       "    <div id='dotnet-interactive-this-cell-10588.Microsoft.DotNet.Interactive.Http.HttpPort' style='display: none'>\r\n",
       "        The below script needs to be able to find the current output cell; this is an easy method to get it.\r\n",
       "    </div>\r\n",
       "    <script type='text/javascript'>\r\n",
       "async function probeAddresses(probingAddresses) {\r\n",
       "    function timeout(ms, promise) {\r\n",
       "        return new Promise(function (resolve, reject) {\r\n",
       "            setTimeout(function () {\r\n",
       "                reject(new Error('timeout'))\r\n",
       "            }, ms)\r\n",
       "            promise.then(resolve, reject)\r\n",
       "        })\r\n",
       "    }\r\n",
       "\r\n",
       "    if (Array.isArray(probingAddresses)) {\r\n",
       "        for (let i = 0; i < probingAddresses.length; i++) {\r\n",
       "\r\n",
       "            let rootUrl = probingAddresses[i];\r\n",
       "\r\n",
       "            if (!rootUrl.endsWith('/')) {\r\n",
       "                rootUrl = `${rootUrl}/`;\r\n",
       "            }\r\n",
       "\r\n",
       "            try {\r\n",
       "                let response = await timeout(1000, fetch(`${rootUrl}discovery`, {\r\n",
       "                    method: 'POST',\r\n",
       "                    cache: 'no-cache',\r\n",
       "                    mode: 'cors',\r\n",
       "                    timeout: 1000,\r\n",
       "                    headers: {\r\n",
       "                        'Content-Type': 'text/plain'\r\n",
       "                    },\r\n",
       "                    body: probingAddresses[i]\r\n",
       "                }));\r\n",
       "\r\n",
       "                if (response.status == 200) {\r\n",
       "                    return rootUrl;\r\n",
       "                }\r\n",
       "            }\r\n",
       "            catch (e) { }\r\n",
       "        }\r\n",
       "    }\r\n",
       "}\r\n",
       "\r\n",
       "function loadDotnetInteractiveApi() {\r\n",
       "    probeAddresses([\"http://192.168.56.1:1000/\", \"http://192.168.0.100:1000/\", \"http://127.0.0.1:1000/\"])\r\n",
       "        .then((root) => {\r\n",
       "        // use probing to find host url and api resources\r\n",
       "        // load interactive helpers and language services\r\n",
       "        let dotnetInteractiveRequire = require.config({\r\n",
       "        context: '10588.Microsoft.DotNet.Interactive.Http.HttpPort',\r\n",
       "                paths:\r\n",
       "            {\r\n",
       "                'dotnet-interactive': `${root}resources`\r\n",
       "                }\r\n",
       "        }) || require;\r\n",
       "\r\n",
       "            window.dotnetInteractiveRequire = dotnetInteractiveRequire;\r\n",
       "\r\n",
       "            window.configureRequireFromExtension = function(extensionName, extensionCacheBuster) {\r\n",
       "                let paths = {};\r\n",
       "                paths[extensionName] = `${root}extensions/${extensionName}/resources/`;\r\n",
       "                \r\n",
       "                let internalRequire = require.config({\r\n",
       "                    context: extensionCacheBuster,\r\n",
       "                    paths: paths,\r\n",
       "                    urlArgs: `cacheBuster=${extensionCacheBuster}`\r\n",
       "                    }) || require;\r\n",
       "\r\n",
       "                return internalRequire\r\n",
       "            };\r\n",
       "        \r\n",
       "            dotnetInteractiveRequire([\r\n",
       "                    'dotnet-interactive/dotnet-interactive'\r\n",
       "                ],\r\n",
       "                function (dotnet) {\r\n",
       "                    dotnet.init(window);\r\n",
       "                },\r\n",
       "                function (error) {\r\n",
       "                    console.log(error);\r\n",
       "                }\r\n",
       "            );\r\n",
       "        })\r\n",
       "        .catch(error => {console.log(error);});\r\n",
       "    }\r\n",
       "\r\n",
       "// ensure `require` is available globally\r\n",
       "if ((typeof(require) !==  typeof(Function)) || (typeof(require.config) !== typeof(Function))) {\r\n",
       "    let require_script = document.createElement('script');\r\n",
       "    require_script.setAttribute('src', 'https://cdnjs.cloudflare.com/ajax/libs/require.js/2.3.6/require.min.js');\r\n",
       "    require_script.setAttribute('type', 'text/javascript');\r\n",
       "    \r\n",
       "    \r\n",
       "    require_script.onload = function() {\r\n",
       "        loadDotnetInteractiveApi();\r\n",
       "    };\r\n",
       "\r\n",
       "    document.getElementsByTagName('head')[0].appendChild(require_script);\r\n",
       "}\r\n",
       "else {\r\n",
       "    loadDotnetInteractiveApi();\r\n",
       "}\r\n",
       "\r\n",
       "    </script>\r\n",
       "</div>"
      ]
     },
     "metadata": {},
     "output_type": "display_data"
    },
    {
     "data": {
      "text/plain": [
       "Installed package Tzolkin version 0.9.16"
      ]
     },
     "metadata": {},
     "output_type": "display_data"
    }
   ],
   "source": [
    "#r \"nuget: Tzolkin\""
   ]
  },
  {
   "cell_type": "markdown",
   "metadata": {},
   "source": [
    "Everything is contained in the namespace `RC.Maya`, so let's open that"
   ]
  },
  {
   "cell_type": "code",
   "execution_count": 2,
   "metadata": {
    "dotnet_interactive": {
     "language": "fsharp"
    }
   },
   "outputs": [],
   "source": [
    "open RC.Maya"
   ]
  },
  {
   "cell_type": "markdown",
   "metadata": {},
   "source": [
    "To check if everything's working, we call `TzolkinDate.today` to get todays (today is the 23th of April, 2021) Tzolk’in date - 7 Chikchan."
   ]
  },
  {
   "cell_type": "code",
   "execution_count": 3,
   "metadata": {
    "dotnet_interactive": {
     "language": "fsharp"
    }
   },
   "outputs": [
    {
     "data": {
      "text/html": [
       "<table><thead><tr><th>Number</th><th>Glyph</th></tr></thead><tbody><tr><td><div class=\"dni-plaintext\">8</div></td><td><div class=\"dni-plaintext\">Kimi</div></td></tr></tbody></table>"
      ]
     },
     "execution_count": 3,
     "metadata": {},
     "output_type": "execute_result"
    }
   ],
   "source": [
    "TzolkinDate.today"
   ]
  },
  {
   "cell_type": "markdown",
   "metadata": {},
   "source": [
    "## Create Tzolk’in Dates\n",
    "\n",
    "A Tzolk’in date consists of a Tzolk’in day number and a Tzolk’in day glyph. A day number is a int between 1 and 13 (including 1 and 13). A day glyph is one of the 20 names \"Imix\", \"Ikʼ\", \"Akʼbʼal\", \"Kʼan\", \"Chikchan\", \"Kimi\", \"Manikʼ\", \"Lamat\", \"Muluk\", \"Ok\", \"Chuwen\", \"Ebʼ\", \"Bʼen\", \"Ix\", \"Men\", \"Kʼibʼ\", \"Kabʼan\", \"Etzʼnabʼ\", \"Kawak\" and \"Ajaw\".\n",
    "\n",
    "A Tzolk’in day number is represented by the type `TzolkinNumber.T` with a constructor `TzolkinNumber.T.TzolkinNumber`. "
   ]
  },
  {
   "cell_type": "code",
   "execution_count": 4,
   "metadata": {
    "dotnet_interactive": {
     "language": "fsharp"
    }
   },
   "outputs": [
    {
     "data": {
      "text/html": [
       "<table><thead><tr><th>Item</th></tr></thead><tbody><tr><td><div class=\"dni-plaintext\">5</div></td></tr></tbody></table>"
      ]
     },
     "execution_count": 4,
     "metadata": {},
     "output_type": "execute_result"
    }
   ],
   "source": [
    "let tzolkinN = TzolkinNumber.T.TzolkinNumber 5\n",
    "tzolkinN"
   ]
  },
  {
   "cell_type": "markdown",
   "metadata": {},
   "source": [
    "But as only certain ints are allowed Tzolk’in day numbers, we have the constructor `TzolkinNumber.create`, that returns a `TzolkinNumber option`: `None` if the given int is non-positive (0 or negative) and values modulo 13 else, but with `13` instead of `0` if `n ≡ 0 (mod 13)`."
   ]
  },
  {
   "cell_type": "code",
   "execution_count": 5,
   "metadata": {
    "dotnet_interactive": {
     "language": "fsharp"
    }
   },
   "outputs": [
    {
     "data": {
      "text/html": [
       "<table><thead><tr><th>Value</th></tr></thead><tbody><tr><td><div class=\"dni-plaintext\">3</div></td></tr></tbody></table>"
      ]
     },
     "execution_count": 5,
     "metadata": {},
     "output_type": "execute_result"
    }
   ],
   "source": [
    "TzolkinNumber.create 3"
   ]
  },
  {
   "cell_type": "code",
   "execution_count": 6,
   "metadata": {
    "dotnet_interactive": {
     "language": "fsharp"
    }
   },
   "outputs": [
    {
     "data": {
      "text/html": [
       "<table><thead><tr><th>Value</th></tr></thead><tbody><tr><td><div class=\"dni-plaintext\">4</div></td></tr></tbody></table>"
      ]
     },
     "execution_count": 6,
     "metadata": {},
     "output_type": "execute_result"
    }
   ],
   "source": [
    "TzolkinNumber.create 56"
   ]
  },
  {
   "cell_type": "code",
   "execution_count": 7,
   "metadata": {
    "dotnet_interactive": {
     "language": "fsharp"
    }
   },
   "outputs": [
    {
     "data": {},
     "execution_count": 7,
     "metadata": {},
     "output_type": "execute_result"
    }
   ],
   "source": [
    "TzolkinNumber.create -8"
   ]
  },
  {
   "cell_type": "code",
   "execution_count": 8,
   "metadata": {
    "dotnet_interactive": {
     "language": "fsharp"
    }
   },
   "outputs": [
    {
     "data": {
      "text/html": [
       "<table><thead><tr><th>Value</th></tr></thead><tbody><tr><td><div class=\"dni-plaintext\">13</div></td></tr></tbody></table>"
      ]
     },
     "execution_count": 8,
     "metadata": {},
     "output_type": "execute_result"
    }
   ],
   "source": [
    "TzolkinNumber.create 26"
   ]
  },
  {
   "cell_type": "markdown",
   "metadata": {},
   "source": [
    "Same for Tzolk’in day glyphs `TzolkinGlyph`:"
   ]
  },
  {
   "cell_type": "code",
   "execution_count": 9,
   "metadata": {
    "dotnet_interactive": {
     "language": "fsharp"
    }
   },
   "outputs": [
    {
     "data": {
      "text/plain": [
       "Chikchan"
      ]
     },
     "execution_count": 9,
     "metadata": {},
     "output_type": "execute_result"
    }
   ],
   "source": [
    "let tzolkinG = TzolkinGlyph.T.TzolkinGlyph 5\n",
    "tzolkinG.ToString ()"
   ]
  },
  {
   "cell_type": "code",
   "execution_count": 10,
   "metadata": {
    "dotnet_interactive": {
     "language": "fsharp"
    }
   },
   "outputs": [
    {
     "data": {
      "text/html": [
       "<table><thead><tr><th>Value</th></tr></thead><tbody><tr><td><div class=\"dni-plaintext\">Ix</div></td></tr></tbody></table>"
      ]
     },
     "execution_count": 10,
     "metadata": {},
     "output_type": "execute_result"
    }
   ],
   "source": [
    "TzolkinGlyph.create 14"
   ]
  },
  {
   "cell_type": "code",
   "execution_count": 11,
   "metadata": {
    "dotnet_interactive": {
     "language": "fsharp"
    }
   },
   "outputs": [
    {
     "data": {},
     "execution_count": 11,
     "metadata": {},
     "output_type": "execute_result"
    }
   ],
   "source": [
    "TzolkinGlyph.create -7"
   ]
  },
  {
   "cell_type": "code",
   "execution_count": 12,
   "metadata": {
    "dotnet_interactive": {
     "language": "fsharp"
    }
   },
   "outputs": [
    {
     "data": {
      "text/html": [
       "<table><thead><tr><th>Value</th></tr></thead><tbody><tr><td><div class=\"dni-plaintext\">Ebʼ</div></td></tr></tbody></table>"
      ]
     },
     "execution_count": 12,
     "metadata": {},
     "output_type": "execute_result"
    }
   ],
   "source": [
    "TzolkinGlyph.create 232"
   ]
  },
  {
   "cell_type": "markdown",
   "metadata": {},
   "source": [
    "We can also construct a `TzolkinGlyph` from a string using either `TzolkinGlyph.fromString`:"
   ]
  },
  {
   "cell_type": "code",
   "execution_count": 13,
   "metadata": {
    "dotnet_interactive": {
     "language": "fsharp"
    }
   },
   "outputs": [
    {
     "data": {
      "text/html": [
       "<table><thead><tr><th>Value</th></tr></thead><tbody><tr><td><div class=\"dni-plaintext\">Kabʼan</div></td></tr></tbody></table>"
      ]
     },
     "execution_count": 13,
     "metadata": {},
     "output_type": "execute_result"
    }
   ],
   "source": [
    "TzolkinGlyph.fromString \"Kabʼan\""
   ]
  },
  {
   "cell_type": "code",
   "execution_count": 14,
   "metadata": {
    "dotnet_interactive": {
     "language": "fsharp"
    }
   },
   "outputs": [
    {
     "data": {},
     "execution_count": 14,
     "metadata": {},
     "output_type": "execute_result"
    }
   ],
   "source": [
    "TzolkinGlyph.fromString \"Kab'an\""
   ]
  },
  {
   "cell_type": "markdown",
   "metadata": {},
   "source": [
    "or `TzolkinGlyph.parseString` to also allow non-exact strings."
   ]
  },
  {
   "cell_type": "code",
   "execution_count": 15,
   "metadata": {
    "dotnet_interactive": {
     "language": "fsharp"
    }
   },
   "outputs": [
    {
     "data": {
      "text/html": [
       "<table><thead><tr><th>Value</th></tr></thead><tbody><tr><td><div class=\"dni-plaintext\">Kabʼan</div></td></tr></tbody></table>"
      ]
     },
     "execution_count": 15,
     "metadata": {},
     "output_type": "execute_result"
    }
   ],
   "source": [
    "TzolkinGlyph.parseString \"Kabʼan\""
   ]
  },
  {
   "cell_type": "code",
   "execution_count": 16,
   "metadata": {
    "dotnet_interactive": {
     "language": "fsharp"
    }
   },
   "outputs": [
    {
     "data": {
      "text/html": [
       "<table><thead><tr><th>Value</th></tr></thead><tbody><tr><td><div class=\"dni-plaintext\">Kabʼan</div></td></tr></tbody></table>"
      ]
     },
     "execution_count": 16,
     "metadata": {},
     "output_type": "execute_result"
    }
   ],
   "source": [
    "TzolkinGlyph.parseString \"Kab'an\""
   ]
  },
  {
   "cell_type": "code",
   "execution_count": 17,
   "metadata": {
    "dotnet_interactive": {
     "language": "fsharp"
    }
   },
   "outputs": [
    {
     "data": {
      "text/html": [
       "<table><thead><tr><th>Value</th></tr></thead><tbody><tr><td><div class=\"dni-plaintext\">Kabʼan</div></td></tr></tbody></table>"
      ]
     },
     "execution_count": 17,
     "metadata": {},
     "output_type": "execute_result"
    }
   ],
   "source": [
    "TzolkinGlyph.parseString \"K-a'b++AN\""
   ]
  },
  {
   "cell_type": "markdown",
   "metadata": {},
   "source": [
    "`TzolkinGlyph.parseString` ignores most punctuation characters, and is suitable to parse user input."
   ]
  },
  {
   "cell_type": "markdown",
   "metadata": {},
   "source": [
    "The list `TzolkinGlyph.glyphNames` contains all Tzolk’in day glyph names as string:"
   ]
  },
  {
   "cell_type": "code",
   "execution_count": 18,
   "metadata": {
    "dotnet_interactive": {
     "language": "fsharp"
    }
   },
   "outputs": [
    {
     "data": {
      "text/html": [
       "<table><thead><tr><th><i>index</i></th><th>value</th></tr></thead><tbody><tr><td>0</td><td><div class=\"dni-plaintext\">Imix</div></td></tr><tr><td>1</td><td><div class=\"dni-plaintext\">Ikʼ</div></td></tr><tr><td>2</td><td><div class=\"dni-plaintext\">Akʼbʼal</div></td></tr><tr><td>3</td><td><div class=\"dni-plaintext\">Kʼan</div></td></tr><tr><td>4</td><td><div class=\"dni-plaintext\">Chikchan</div></td></tr><tr><td>5</td><td><div class=\"dni-plaintext\">Kimi</div></td></tr><tr><td>6</td><td><div class=\"dni-plaintext\">Manikʼ</div></td></tr><tr><td>7</td><td><div class=\"dni-plaintext\">Lamat</div></td></tr><tr><td>8</td><td><div class=\"dni-plaintext\">Muluk</div></td></tr><tr><td>9</td><td><div class=\"dni-plaintext\">Ok</div></td></tr><tr><td>10</td><td><div class=\"dni-plaintext\">Chuwen</div></td></tr><tr><td>11</td><td><div class=\"dni-plaintext\">Ebʼ</div></td></tr><tr><td>12</td><td><div class=\"dni-plaintext\">Bʼen</div></td></tr><tr><td>13</td><td><div class=\"dni-plaintext\">Ix</div></td></tr><tr><td>14</td><td><div class=\"dni-plaintext\">Men</div></td></tr><tr><td>15</td><td><div class=\"dni-plaintext\">Kʼibʼ</div></td></tr><tr><td>16</td><td><div class=\"dni-plaintext\">Kabʼan</div></td></tr><tr><td>17</td><td><div class=\"dni-plaintext\">Etzʼnabʼ</div></td></tr><tr><td>18</td><td><div class=\"dni-plaintext\">Kawak</div></td></tr><tr><td>19</td><td><div class=\"dni-plaintext\">Ajaw</div></td></tr></tbody></table>"
      ]
     },
     "execution_count": 18,
     "metadata": {},
     "output_type": "execute_result"
    }
   ],
   "source": [
    "TzolkinGlyph.glyphNames"
   ]
  },
  {
   "cell_type": "markdown",
   "metadata": {},
   "source": [
    "A Tzolk’in day `TzolkinDate` is a record with two fields, `Number` and `Glyph`:"
   ]
  },
  {
   "cell_type": "code",
   "execution_count": 19,
   "metadata": {
    "dotnet_interactive": {
     "language": "fsharp"
    }
   },
   "outputs": [
    {
     "data": {
      "text/html": [
       "<table><thead><tr><th>Number</th><th>Glyph</th></tr></thead><tbody><tr><td><div class=\"dni-plaintext\">13</div></td><td><div class=\"dni-plaintext\">Kabʼan</div></td></tr></tbody></table>"
      ]
     },
     "execution_count": 19,
     "metadata": {},
     "output_type": "execute_result"
    }
   ],
   "source": [
    "let tzolkin = { TzolkinDate.Number = TzolkinNumber.T.TzolkinNumber 13; TzolkinDate.Glyph = TzolkinGlyph.T.TzolkinGlyph 17 }\n",
    "tzolkin"
   ]
  },
  {
   "cell_type": "markdown",
   "metadata": {},
   "source": [
    "It can be created with a `TzolkinNumber` and a `TzolkinGlyph`: "
   ]
  },
  {
   "cell_type": "code",
   "execution_count": 20,
   "metadata": {
    "dotnet_interactive": {
     "language": "fsharp"
    }
   },
   "outputs": [
    {
     "data": {
      "text/html": [
       "<table><thead><tr><th>Number</th><th>Glyph</th></tr></thead><tbody><tr><td><div class=\"dni-plaintext\">13</div></td><td><div class=\"dni-plaintext\">Kabʼan</div></td></tr></tbody></table>"
      ]
     },
     "execution_count": 20,
     "metadata": {},
     "output_type": "execute_result"
    }
   ],
   "source": [
    "let tzolkinN = TzolkinNumber.T.TzolkinNumber 13\n",
    "let tzolkinG = TzolkinGlyph.T.TzolkinGlyph 17\n",
    "\n",
    "TzolkinDate.create tzolkinN tzolkinG"
   ]
  },
  {
   "cell_type": "markdown",
   "metadata": {},
   "source": [
    "But this does not check the input, so invalid dates can be a result."
   ]
  },
  {
   "cell_type": "code",
   "execution_count": 21,
   "metadata": {
    "dotnet_interactive": {
     "language": "fsharp"
    }
   },
   "outputs": [
    {
     "data": {
      "text/html": [
       "<table><thead><tr><th>Number</th><th>Glyph</th></tr></thead><tbody><tr><td><div class=\"dni-plaintext\">65</div></td><td><div class=\"dni-plaintext\">Kimi</div></td></tr></tbody></table>"
      ]
     },
     "execution_count": 21,
     "metadata": {},
     "output_type": "execute_result"
    }
   ],
   "source": [
    "let tzolkinN = TzolkinNumber.T.TzolkinNumber 65\n",
    "let tzolkinG = TzolkinGlyph.T.TzolkinGlyph 6\n",
    "\n",
    "TzolkinDate.create tzolkinN tzolkinG"
   ]
  },
  {
   "cell_type": "markdown",
   "metadata": {},
   "source": [
    "The constructor `TzolkinDate.fromInts` checks the input and returns an `TzolkinDate option`:"
   ]
  },
  {
   "cell_type": "code",
   "execution_count": 22,
   "metadata": {
    "dotnet_interactive": {
     "language": "fsharp"
    }
   },
   "outputs": [
    {
     "data": {
      "text/html": [
       "<table><thead><tr><th>Value</th></tr></thead><tbody><tr><td><div class=\"dni-plaintext\">13 Kabʼan</div></td></tr></tbody></table>"
      ]
     },
     "execution_count": 22,
     "metadata": {},
     "output_type": "execute_result"
    }
   ],
   "source": [
    "TzolkinDate.fromInts 13 17"
   ]
  },
  {
   "cell_type": "code",
   "execution_count": 23,
   "metadata": {
    "dotnet_interactive": {
     "language": "fsharp"
    }
   },
   "outputs": [
    {
     "data": {},
     "execution_count": 23,
     "metadata": {},
     "output_type": "execute_result"
    }
   ],
   "source": [
    "TzolkinDate.fromInts -3 14"
   ]
  },
  {
   "cell_type": "code",
   "execution_count": 24,
   "metadata": {
    "dotnet_interactive": {
     "language": "fsharp"
    }
   },
   "outputs": [
    {
     "data": {},
     "execution_count": 24,
     "metadata": {},
     "output_type": "execute_result"
    }
   ],
   "source": [
    "TzolkinDate.fromInts 13 -6"
   ]
  },
  {
   "cell_type": "markdown",
   "metadata": {},
   "source": [
    "There exists two constructor to create a `TzolkinDate` from strings. \n",
    "\n",
    "`TzolkinDate.fromStrings` creates a `TzolkinDate option` from 2 strings:"
   ]
  },
  {
   "cell_type": "code",
   "execution_count": 25,
   "metadata": {
    "dotnet_interactive": {
     "language": "fsharp"
    }
   },
   "outputs": [
    {
     "data": {
      "text/html": [
       "<table><thead><tr><th>Value</th></tr></thead><tbody><tr><td><div class=\"dni-plaintext\">13 Kabʼan</div></td></tr></tbody></table>"
      ]
     },
     "execution_count": 25,
     "metadata": {},
     "output_type": "execute_result"
    }
   ],
   "source": [
    "TzolkinDate.fromStrings \"13\" \"Kabʼan\""
   ]
  },
  {
   "cell_type": "code",
   "execution_count": 26,
   "metadata": {
    "dotnet_interactive": {
     "language": "fsharp"
    }
   },
   "outputs": [
    {
     "data": {},
     "execution_count": 26,
     "metadata": {},
     "output_type": "execute_result"
    }
   ],
   "source": [
    "TzolkinDate.fromStrings \"-3\" \"Kabʼan\""
   ]
  },
  {
   "cell_type": "code",
   "execution_count": 27,
   "metadata": {
    "dotnet_interactive": {
     "language": "fsharp"
    }
   },
   "outputs": [
    {
     "data": {},
     "execution_count": 27,
     "metadata": {},
     "output_type": "execute_result"
    }
   ],
   "source": [
    "TzolkinDate.fromStrings \"13\" \"FOO\""
   ]
  },
  {
   "cell_type": "markdown",
   "metadata": {},
   "source": [
    "`TzolkinDate.fromString` creates a `TzolkinDate` from a combined date. The day number and day glyph can be separated by whitespace, by a punctuation character or not at all:"
   ]
  },
  {
   "cell_type": "code",
   "execution_count": 28,
   "metadata": {
    "dotnet_interactive": {
     "language": "fsharp"
    }
   },
   "outputs": [
    {
     "data": {
      "text/html": [
       "<table><thead><tr><th>Value</th></tr></thead><tbody><tr><td><div class=\"dni-plaintext\">13 Kabʼan</div></td></tr></tbody></table>"
      ]
     },
     "execution_count": 28,
     "metadata": {},
     "output_type": "execute_result"
    }
   ],
   "source": [
    "TzolkinDate.fromString \"13 Kabʼan\""
   ]
  },
  {
   "cell_type": "code",
   "execution_count": 29,
   "metadata": {
    "dotnet_interactive": {
     "language": "fsharp"
    }
   },
   "outputs": [
    {
     "data": {
      "text/html": [
       "<table><thead><tr><th>Value</th></tr></thead><tbody><tr><td><div class=\"dni-plaintext\">13 Kabʼan</div></td></tr></tbody></table>"
      ]
     },
     "execution_count": 29,
     "metadata": {},
     "output_type": "execute_result"
    }
   ],
   "source": [
    "TzolkinDate.fromString \"13-Kabʼan\""
   ]
  },
  {
   "cell_type": "code",
   "execution_count": 30,
   "metadata": {
    "dotnet_interactive": {
     "language": "fsharp"
    }
   },
   "outputs": [
    {
     "data": {
      "text/html": [
       "<table><thead><tr><th>Value</th></tr></thead><tbody><tr><td><div class=\"dni-plaintext\">13 Kabʼan</div></td></tr></tbody></table>"
      ]
     },
     "execution_count": 30,
     "metadata": {},
     "output_type": "execute_result"
    }
   ],
   "source": [
    "TzolkinDate.fromString \"13Kabʼan\""
   ]
  },
  {
   "cell_type": "markdown",
   "metadata": {},
   "source": [
    "Both `TzolkinDate.fromString` and `TzolkinDate.fromStrings` parse the glyph name string and ignore almost all punctuation characters in it. So these functions are suitable to parse user input."
   ]
  },
  {
   "cell_type": "code",
   "execution_count": 31,
   "metadata": {
    "dotnet_interactive": {
     "language": "fsharp"
    }
   },
   "outputs": [
    {
     "data": {
      "text/html": [
       "<table><thead><tr><th>Value</th></tr></thead><tbody><tr><td><div class=\"dni-plaintext\">13 Kabʼan</div></td></tr></tbody></table>"
      ]
     },
     "execution_count": 31,
     "metadata": {},
     "output_type": "execute_result"
    }
   ],
   "source": [
    "TzolkinDate.fromString \"13 kA*b`aN\""
   ]
  },
  {
   "cell_type": "code",
   "execution_count": 32,
   "metadata": {
    "dotnet_interactive": {
     "language": "fsharp"
    }
   },
   "outputs": [
    {
     "data": {
      "text/html": [
       "<table><thead><tr><th>Value</th></tr></thead><tbody><tr><td><div class=\"dni-plaintext\">13 Kabʼan</div></td></tr></tbody></table>"
      ]
     },
     "execution_count": 32,
     "metadata": {},
     "output_type": "execute_result"
    }
   ],
   "source": [
    "TzolkinDate.fromStrings \"13\" \"k*a-b´`^aN#\""
   ]
  },
  {
   "cell_type": "markdown",
   "metadata": {},
   "source": [
    "## Conversion to Integers and Strings\n",
    "\n",
    "All Tzolk’in types can be converted to int and string, using `int` (only `TzolkinNumber`and `TzolkinGlyph`) or `toInt` (all 3) and either the function `toString` or the member function `ToString`:"
   ]
  },
  {
   "cell_type": "code",
   "execution_count": 33,
   "metadata": {
    "dotnet_interactive": {
     "language": "fsharp"
    }
   },
   "outputs": [
    {
     "data": {
      "text/plain": [
       "Kabʼan"
      ]
     },
     "execution_count": 33,
     "metadata": {},
     "output_type": "execute_result"
    }
   ],
   "source": [
    "let tzolkinG = TzolkinGlyph.T.TzolkinGlyph 17\n",
    "\n",
    "TzolkinGlyph.toString tzolkinG"
   ]
  },
  {
   "cell_type": "code",
   "execution_count": 34,
   "metadata": {
    "dotnet_interactive": {
     "language": "fsharp"
    }
   },
   "outputs": [
    {
     "data": {
      "text/plain": [
       "Kabʼan"
      ]
     },
     "execution_count": 34,
     "metadata": {},
     "output_type": "execute_result"
    }
   ],
   "source": [
    "tzolkinG.ToString ()"
   ]
  },
  {
   "cell_type": "code",
   "execution_count": 35,
   "metadata": {
    "dotnet_interactive": {
     "language": "fsharp"
    }
   },
   "outputs": [
    {
     "data": {
      "text/html": [
       "<div class=\"dni-plaintext\">17</div>"
      ]
     },
     "execution_count": 35,
     "metadata": {},
     "output_type": "execute_result"
    }
   ],
   "source": [
    "int tzolkinG"
   ]
  },
  {
   "cell_type": "markdown",
   "metadata": {},
   "source": [
    "A `TzolkinNumber` can be converted to an int using `int`:"
   ]
  },
  {
   "cell_type": "code",
   "execution_count": 36,
   "metadata": {
    "dotnet_interactive": {
     "language": "fsharp"
    }
   },
   "outputs": [
    {
     "data": {
      "text/html": [
       "<div class=\"dni-plaintext\">13</div>"
      ]
     },
     "execution_count": 36,
     "metadata": {},
     "output_type": "execute_result"
    }
   ],
   "source": [
    "let tzolkinN = TzolkinNumber.T.TzolkinNumber 13\n",
    "\n",
    "int tzolkinN"
   ]
  },
  {
   "cell_type": "markdown",
   "metadata": {},
   "source": [
    "A `TzolkinDate` can be converted to an int using `TzolkinDate.toInt`, returning the number of the day in the Tzolk’in year of 260 days:"
   ]
  },
  {
   "cell_type": "code",
   "execution_count": 37,
   "metadata": {},
   "outputs": [
    {
     "data": {
      "text/html": [
       "<div class=\"dni-plaintext\">117</div>"
      ]
     },
     "execution_count": 37,
     "metadata": {},
     "output_type": "execute_result"
    }
   ],
   "source": [
    "let tzolkin = TzolkinDate.create (TzolkinNumber.T.TzolkinNumber 13) (TzolkinGlyph.T.TzolkinGlyph 17)\n",
    "\n",
    "TzolkinDate.toInt tzolkin"
   ]
  },
  {
   "cell_type": "markdown",
   "metadata": {},
   "source": [
    "A `TzolkinDate` can be converted to a string using it's member function `ToString`:"
   ]
  },
  {
   "cell_type": "code",
   "execution_count": 38,
   "metadata": {
    "dotnet_interactive": {
     "language": "fsharp"
    }
   },
   "outputs": [
    {
     "data": {
      "text/plain": [
       "13 Kabʼan"
      ]
     },
     "execution_count": 38,
     "metadata": {},
     "output_type": "execute_result"
    }
   ],
   "source": [
    "let tzolkin = TzolkinDate.create (TzolkinNumber.T.TzolkinNumber 13) (TzolkinGlyph.T.TzolkinGlyph 17)\n",
    "\n",
    "tzolkin.ToString ()"
   ]
  },
  {
   "cell_type": "markdown",
   "metadata": {},
   "source": [
    "## Convert Gregorian Dates to Tzolk’in Dates\n",
    "\n",
    "We can get the Tzolk’in date of the current day using `TzolkinDate.today` (today is the 23th of April, 2021, 7 Chikchan)"
   ]
  },
  {
   "cell_type": "code",
   "execution_count": 39,
   "metadata": {
    "dotnet_interactive": {
     "language": "fsharp"
    }
   },
   "outputs": [
    {
     "data": {
      "text/html": [
       "<table><thead><tr><th>Number</th><th>Glyph</th></tr></thead><tbody><tr><td><div class=\"dni-plaintext\">8</div></td><td><div class=\"dni-plaintext\">Kimi</div></td></tr></tbody></table>"
      ]
     },
     "execution_count": 39,
     "metadata": {},
     "output_type": "execute_result"
    }
   ],
   "source": [
    "TzolkinDate.today"
   ]
  },
  {
   "cell_type": "markdown",
   "metadata": {},
   "source": [
    "To get the Tzolk’in date of a given Gregorian date, there are the functions `TzolkinDate.fromDate` - to convert from a `DateTime`. We use the 25th of May, 2021."
   ]
  },
  {
   "cell_type": "code",
   "execution_count": 40,
   "metadata": {
    "dotnet_interactive": {
     "language": "fsharp"
    }
   },
   "outputs": [
    {
     "data": {
      "text/html": [
       "<table><thead><tr><th>Number</th><th>Glyph</th></tr></thead><tbody><tr><td><div class=\"dni-plaintext\">13</div></td><td><div class=\"dni-plaintext\">Kabʼan</div></td></tr></tbody></table>"
      ]
     },
     "execution_count": 40,
     "metadata": {},
     "output_type": "execute_result"
    }
   ],
   "source": [
    "TzolkinDate.fromDate (DateTime (2021, 05, 25))"
   ]
  },
  {
   "cell_type": "markdown",
   "metadata": {},
   "source": [
    "`TzolkinDate.fromDateString` to convert from a date string given and a date format string"
   ]
  },
  {
   "cell_type": "code",
   "execution_count": 41,
   "metadata": {
    "dotnet_interactive": {
     "language": "fsharp"
    }
   },
   "outputs": [
    {
     "data": {
      "text/html": [
       "<table><thead><tr><th>Number</th><th>Glyph</th></tr></thead><tbody><tr><td><div class=\"dni-plaintext\">13</div></td><td><div class=\"dni-plaintext\">Kabʼan</div></td></tr></tbody></table>"
      ]
     },
     "execution_count": 41,
     "metadata": {},
     "output_type": "execute_result"
    }
   ],
   "source": [
    "TzolkinDate.fromDateString \"25.05.2021\" \"dd.MM.yyyy\""
   ]
  },
  {
   "cell_type": "markdown",
   "metadata": {},
   "source": [
    "`TzolkinDate.fromISOString` to convert from a ISO date string, the format is \"yyyy-MM-dd\""
   ]
  },
  {
   "cell_type": "code",
   "execution_count": 42,
   "metadata": {
    "dotnet_interactive": {
     "language": "fsharp"
    }
   },
   "outputs": [
    {
     "data": {
      "text/html": [
       "<table><thead><tr><th>Number</th><th>Glyph</th></tr></thead><tbody><tr><td><div class=\"dni-plaintext\">13</div></td><td><div class=\"dni-plaintext\">Kabʼan</div></td></tr></tbody></table>"
      ]
     },
     "execution_count": 42,
     "metadata": {},
     "output_type": "execute_result"
    }
   ],
   "source": [
    "TzolkinDate.fromISOString \"2021-05-25\""
   ]
  },
  {
   "cell_type": "markdown",
   "metadata": {},
   "source": [
    "We can also get the Tzolk’in day number of a Gregorian date by using `TzolkinNumber.fromDate`:"
   ]
  },
  {
   "cell_type": "code",
   "execution_count": 43,
   "metadata": {
    "dotnet_interactive": {
     "language": "fsharp"
    }
   },
   "outputs": [
    {
     "data": {
      "text/html": [
       "<table><thead><tr><th>Item</th></tr></thead><tbody><tr><td><div class=\"dni-plaintext\">13</div></td></tr></tbody></table>"
      ]
     },
     "execution_count": 43,
     "metadata": {},
     "output_type": "execute_result"
    }
   ],
   "source": [
    "TzolkinNumber.fromDate (DateTime (2021, 05, 25))"
   ]
  },
  {
   "cell_type": "markdown",
   "metadata": {},
   "source": [
    "The Tzolk’in day glyph we can get using `TzolkinGlyph.fromDate`."
   ]
  },
  {
   "cell_type": "code",
   "execution_count": 44,
   "metadata": {
    "dotnet_interactive": {
     "language": "fsharp"
    }
   },
   "outputs": [
    {
     "data": {
      "text/html": [
       "<table><thead><tr><th>Item</th></tr></thead><tbody><tr><td><div class=\"dni-plaintext\">17</div></td></tr></tbody></table>"
      ]
     },
     "execution_count": 44,
     "metadata": {},
     "output_type": "execute_result"
    }
   ],
   "source": [
    "let tzolkin = TzolkinGlyph.fromDate (DateTime (2021, 05, 25))\n",
    "tzolkin"
   ]
  },
  {
   "cell_type": "markdown",
   "metadata": {},
   "source": [
    "A `TzolkinGlyph` is an int between 1 and 20 (including 1 and 20), so we need to use `toString` or the member function `ToString` to get the name."
   ]
  },
  {
   "cell_type": "code",
   "execution_count": 45,
   "metadata": {
    "dotnet_interactive": {
     "language": "fsharp"
    }
   },
   "outputs": [
    {
     "data": {
      "text/plain": [
       "Kabʼan"
      ]
     },
     "execution_count": 45,
     "metadata": {},
     "output_type": "execute_result"
    }
   ],
   "source": [
    "TzolkinGlyph.toString tzolkin"
   ]
  },
  {
   "cell_type": "code",
   "execution_count": 46,
   "metadata": {
    "dotnet_interactive": {
     "language": "fsharp"
    }
   },
   "outputs": [
    {
     "data": {
      "text/plain": [
       "Kabʼan"
      ]
     },
     "execution_count": 46,
     "metadata": {},
     "output_type": "execute_result"
    }
   ],
   "source": [
    "tzolkin.ToString ()"
   ]
  },
  {
   "cell_type": "markdown",
   "metadata": {},
   "source": [
    "## Find Tzolk’in Dates\n",
    "\n",
    "To find a Tzolk’in date before or after a given Gregorian Date, there exist the functions `getNext` and `getLast`. \n",
    "\n",
    "To get the next day after the given Gregorian date with the Tzolk’in date we search for, we use `getNext`. To get the next Gregorian date with a Tzolk’in date of 13 Kabʼan after the 23th of April, 2021. We should get the 25th of May, 2021 as a result."
   ]
  },
  {
   "cell_type": "code",
   "execution_count": 47,
   "metadata": {
    "dotnet_interactive": {
     "language": "fsharp"
    }
   },
   "outputs": [
    {
     "data": {
      "text/html": [
       "<span>2021-05-25 00:00:00Z</span>"
      ]
     },
     "execution_count": 47,
     "metadata": {},
     "output_type": "execute_result"
    }
   ],
   "source": [
    "let tzolkin = TzolkinDate.create (TzolkinNumber.T.TzolkinNumber 13) (TzolkinGlyph.T.TzolkinGlyph 17)\n",
    "\n",
    "TzolkinDate.getNext tzolkin (DateTime (2021, 04, 23))"
   ]
  },
  {
   "cell_type": "markdown",
   "metadata": {},
   "source": [
    "`getLast` returns the Gregorian date before the start date. "
   ]
  },
  {
   "cell_type": "code",
   "execution_count": 48,
   "metadata": {
    "dotnet_interactive": {
     "language": "fsharp"
    }
   },
   "outputs": [
    {
     "data": {
      "text/html": [
       "<span>2021-05-25 00:00:00Z</span>"
      ]
     },
     "execution_count": 48,
     "metadata": {},
     "output_type": "execute_result"
    }
   ],
   "source": [
    "TzolkinDate.getLast tzolkin (DateTime (2021, 05, 30))"
   ]
  },
  {
   "cell_type": "markdown",
   "metadata": {},
   "source": [
    "TzolkinGlpyh and TzolkinNumber have both `getNext` and `getLast` too:"
   ]
  },
  {
   "cell_type": "code",
   "execution_count": 49,
   "metadata": {
    "dotnet_interactive": {
     "language": "fsharp"
    }
   },
   "outputs": [
    {
     "data": {
      "text/html": [
       "<span>2021-05-25 00:00:00Z</span>"
      ]
     },
     "execution_count": 49,
     "metadata": {},
     "output_type": "execute_result"
    }
   ],
   "source": [
    "let tzolkinG = TzolkinGlyph.T.TzolkinGlyph 17\n",
    "\n",
    "TzolkinGlyph.getNext tzolkinG (DateTime (2021, 05, 16))"
   ]
  },
  {
   "cell_type": "code",
   "execution_count": 50,
   "metadata": {
    "dotnet_interactive": {
     "language": "fsharp"
    }
   },
   "outputs": [
    {
     "data": {
      "text/html": [
       "<span>2021-05-25 00:00:00Z</span>"
      ]
     },
     "execution_count": 50,
     "metadata": {},
     "output_type": "execute_result"
    }
   ],
   "source": [
    "let tzolkinN = TzolkinNumber.T.TzolkinNumber 13\n",
    "\n",
    "TzolkinNumber.getLast tzolkinN (DateTime (2021, 05, 30))"
   ]
  },
  {
   "cell_type": "markdown",
   "metadata": {},
   "source": [
    "We can get lists of Gregorian dates with the same Tzolk’in date after or before a start date by using `getNextList` and `getLastList`.\n",
    "\n",
    "Get the list of 10 dates with a Tzolk’in date of 13 Kabʼan after the 23th of April, 2021: "
   ]
  },
  {
   "cell_type": "code",
   "execution_count": 51,
   "metadata": {
    "dotnet_interactive": {
     "language": "fsharp"
    }
   },
   "outputs": [
    {
     "data": {
      "text/html": [
       "<table><thead><tr><th><i>index</i></th><th>value</th></tr></thead><tbody><tr><td>0</td><td><span>2021-05-25 00:00:00Z</span></td></tr><tr><td>1</td><td><span>2022-02-09 00:00:00Z</span></td></tr><tr><td>2</td><td><span>2022-10-27 00:00:00Z</span></td></tr><tr><td>3</td><td><span>2023-07-14 00:00:00Z</span></td></tr><tr><td>4</td><td><span>2024-03-30 00:00:00Z</span></td></tr><tr><td>5</td><td><span>2024-12-15 00:00:00Z</span></td></tr><tr><td>6</td><td><span>2025-09-01 00:00:00Z</span></td></tr><tr><td>7</td><td><span>2026-05-19 00:00:00Z</span></td></tr><tr><td>8</td><td><span>2027-02-03 00:00:00Z</span></td></tr><tr><td>9</td><td><span>2027-10-21 00:00:00Z</span></td></tr></tbody></table>"
      ]
     },
     "execution_count": 51,
     "metadata": {},
     "output_type": "execute_result"
    }
   ],
   "source": [
    "let tzolkin =  TzolkinDate.create (TzolkinNumber.T.TzolkinNumber 13) (TzolkinGlyph.T.TzolkinGlyph 17)\n",
    "    \n",
    "TzolkinDate.getNextList 10 tzolkin (DateTime (2021, 04, 23))                            "
   ]
  },
  {
   "cell_type": "markdown",
   "metadata": {},
   "source": [
    "`getLastList` includes the start date, if the start date has a Tzolk’in date that we are searching for, `getNextList` does not incllude the start that in that case."
   ]
  },
  {
   "cell_type": "code",
   "execution_count": 52,
   "metadata": {
    "dotnet_interactive": {
     "language": "fsharp"
    }
   },
   "outputs": [
    {
     "data": {
      "text/html": [
       "<table><thead><tr><th><i>index</i></th><th>value</th></tr></thead><tbody><tr><td>0</td><td><span>2021-05-25 00:00:00Z</span></td></tr><tr><td>1</td><td><span>2020-09-07 00:00:00Z</span></td></tr><tr><td>2</td><td><span>2019-12-22 00:00:00Z</span></td></tr><tr><td>3</td><td><span>2019-04-06 00:00:00Z</span></td></tr><tr><td>4</td><td><span>2018-07-20 00:00:00Z</span></td></tr><tr><td>5</td><td><span>2017-11-02 00:00:00Z</span></td></tr></tbody></table>"
      ]
     },
     "execution_count": 52,
     "metadata": {},
     "output_type": "execute_result"
    }
   ],
   "source": [
    "TzolkinDate.getLastList 5 tzolkin (DateTime (2021, 05, 25))"
   ]
  },
  {
   "cell_type": "markdown",
   "metadata": {},
   "source": [
    "`TzolkinNumber` and `TzolkinGlyph` have these functions too:"
   ]
  },
  {
   "cell_type": "code",
   "execution_count": 53,
   "metadata": {
    "dotnet_interactive": {
     "language": "fsharp"
    }
   },
   "outputs": [
    {
     "data": {
      "text/html": [
       "<table><thead><tr><th><i>index</i></th><th>value</th></tr></thead><tbody><tr><td>0</td><td><span>2021-05-25 00:00:00Z</span></td></tr><tr><td>1</td><td><span>2021-06-07 00:00:00Z</span></td></tr><tr><td>2</td><td><span>2021-06-20 00:00:00Z</span></td></tr><tr><td>3</td><td><span>2021-07-03 00:00:00Z</span></td></tr><tr><td>4</td><td><span>2021-07-16 00:00:00Z</span></td></tr></tbody></table>"
      ]
     },
     "execution_count": 53,
     "metadata": {},
     "output_type": "execute_result"
    }
   ],
   "source": [
    "let tzolkinN = TzolkinNumber.T.TzolkinNumber 13\n",
    "\n",
    "TzolkinNumber.getNextList 5 tzolkinN (DateTime (2021, 05, 16))"
   ]
  },
  {
   "cell_type": "code",
   "execution_count": 54,
   "metadata": {
    "dotnet_interactive": {
     "language": "fsharp"
    }
   },
   "outputs": [
    {
     "data": {
      "text/html": [
       "<table><thead><tr><th><i>index</i></th><th>value</th></tr></thead><tbody><tr><td>0</td><td><span>2021-05-25 00:00:00Z</span></td></tr><tr><td>1</td><td><span>2021-05-05 00:00:00Z</span></td></tr><tr><td>2</td><td><span>2021-04-15 00:00:00Z</span></td></tr><tr><td>3</td><td><span>2021-03-26 00:00:00Z</span></td></tr><tr><td>4</td><td><span>2021-03-06 00:00:00Z</span></td></tr><tr><td>5</td><td><span>2021-02-14 00:00:00Z</span></td></tr><tr><td>6</td><td><span>2021-01-25 00:00:00Z</span></td></tr><tr><td>7</td><td><span>2021-01-05 00:00:00Z</span></td></tr><tr><td>8</td><td><span>2020-12-16 00:00:00Z</span></td></tr><tr><td>9</td><td><span>2020-11-26 00:00:00Z</span></td></tr></tbody></table>"
      ]
     },
     "execution_count": 54,
     "metadata": {},
     "output_type": "execute_result"
    }
   ],
   "source": [
    "let tzolkinG = TzolkinGlyph.T.TzolkinGlyph 17\n",
    "\n",
    "TzolkinGlyph.getLastList 10 tzolkinG (DateTime (2021, 05, 30))"
   ]
  },
  {
   "cell_type": "markdown",
   "metadata": {},
   "source": [
    "## Calculations with Tzolk’in Dates\n",
    "\n",
    "We can add ints - meaning days - and `TimeSpan`s to the 3 Tzolk’in types:"
   ]
  },
  {
   "cell_type": "code",
   "execution_count": 55,
   "metadata": {
    "dotnet_interactive": {
     "language": "fsharp"
    }
   },
   "outputs": [
    {
     "data": {
      "text/html": [
       "<table><thead><tr><th>Item</th></tr></thead><tbody><tr><td><div class=\"dni-plaintext\">7</div></td></tr></tbody></table>"
      ]
     },
     "execution_count": 55,
     "metadata": {},
     "output_type": "execute_result"
    }
   ],
   "source": [
    "let tzolkinN = TzolkinNumber.T.TzolkinNumber 13\n",
    "\n",
    "tzolkinN + -6"
   ]
  },
  {
   "cell_type": "code",
   "execution_count": 56,
   "metadata": {
    "dotnet_interactive": {
     "language": "fsharp"
    }
   },
   "outputs": [
    {
     "data": {
      "text/html": [
       "<table><thead><tr><th>Item</th></tr></thead><tbody><tr><td><div class=\"dni-plaintext\">5</div></td></tr></tbody></table>"
      ]
     },
     "execution_count": 56,
     "metadata": {},
     "output_type": "execute_result"
    }
   ],
   "source": [
    "let tzolkinG = TzolkinGlyph.T.TzolkinGlyph 17\n",
    "    \n",
    "8 + tzolkinG"
   ]
  },
  {
   "cell_type": "code",
   "execution_count": 57,
   "metadata": {
    "dotnet_interactive": {
     "language": "fsharp"
    }
   },
   "outputs": [
    {
     "data": {
      "text/html": [
       "<table><thead><tr><th>Number</th><th>Glyph</th></tr></thead><tbody><tr><td><div class=\"dni-plaintext\">6</div></td><td><div class=\"dni-plaintext\">Ok</div></td></tr></tbody></table>"
      ]
     },
     "execution_count": 57,
     "metadata": {},
     "output_type": "execute_result"
    }
   ],
   "source": [
    "let tzolkin =  TzolkinDate.create (TzolkinNumber.T.TzolkinNumber 13) (TzolkinGlyph.T.TzolkinGlyph 17)\n",
    "    \n",
    "tzolkin + TimeSpan.FromDays -7.0"
   ]
  },
  {
   "cell_type": "code",
   "execution_count": 58,
   "metadata": {
    "dotnet_interactive": {
     "language": "fsharp"
    }
   },
   "outputs": [
    {
     "data": {
      "text/html": [
       "<table><thead><tr><th>Item</th></tr></thead><tbody><tr><td><div class=\"dni-plaintext\">4</div></td></tr></tbody></table>"
      ]
     },
     "execution_count": 58,
     "metadata": {},
     "output_type": "execute_result"
    }
   ],
   "source": [
    "TimeSpan.FromDays 186. + tzolkinN"
   ]
  },
  {
   "cell_type": "markdown",
   "metadata": {},
   "source": [
    "And we can calculate the difference in days between two TzolkinDates, TzolkinNumbers or TzolkinGlyphs by subtracting them."
   ]
  },
  {
   "cell_type": "code",
   "execution_count": 59,
   "metadata": {
    "dotnet_interactive": {
     "language": "fsharp"
    }
   },
   "outputs": [
    {
     "data": {
      "text/html": [
       "<div class=\"dni-plaintext\">-6</div>"
      ]
     },
     "execution_count": 59,
     "metadata": {},
     "output_type": "execute_result"
    }
   ],
   "source": [
    "let tzolkinN1 = TzolkinNumber.T.TzolkinNumber 13\n",
    "let tzolkinN2 = TzolkinNumber.T.TzolkinNumber 7\n",
    "    \n",
    "tzolkinN2 - tzolkinN1   "
   ]
  },
  {
   "cell_type": "code",
   "execution_count": 60,
   "metadata": {
    "dotnet_interactive": {
     "language": "fsharp"
    }
   },
   "outputs": [
    {
     "data": {
      "text/html": [
       "<div class=\"dni-plaintext\">11</div>"
      ]
     },
     "execution_count": 60,
     "metadata": {},
     "output_type": "execute_result"
    }
   ],
   "source": [
    "let tzolkinG1 = TzolkinGlyph.T.TzolkinGlyph 6\n",
    "let tzolkinG2 = TzolkinGlyph.T.TzolkinGlyph 17\n",
    "\n",
    "tzolkinG2 - tzolkinG1"
   ]
  },
  {
   "cell_type": "markdown",
   "metadata": {},
   "source": [
    "The difference between 2 `TzolkinDate`s is always non-negative and between 0 and 260 (including 0 and 260). So, given `tz1 - tz2`, the result is `int tz1 - int tz2` if `tz1 > tz2` and is `260 - int tz2 + int tz1` (`260 - (int tz2 - int tz1)`) else."
   ]
  },
  {
   "cell_type": "code",
   "execution_count": 61,
   "metadata": {
    "dotnet_interactive": {
     "language": "fsharp"
    }
   },
   "outputs": [
    {
     "data": {
      "text/html": [
       "<div class=\"dni-plaintext\">45</div>"
      ]
     },
     "execution_count": 61,
     "metadata": {},
     "output_type": "execute_result"
    }
   ],
   "source": [
    "let tzolkin1 =  TzolkinDate.create (TzolkinNumber.T.TzolkinNumber 13) (TzolkinGlyph.T.TzolkinGlyph 17)\n",
    "let tzolkin2 =  TzolkinDate.create (TzolkinNumber.T.TzolkinNumber 6) (TzolkinGlyph.T.TzolkinGlyph 2)\n",
    "    \n",
    "tzolkin2 - tzolkin1"
   ]
  },
  {
   "cell_type": "code",
   "execution_count": 62,
   "metadata": {
    "dotnet_interactive": {
     "language": "fsharp"
    }
   },
   "outputs": [
    {
     "data": {
      "text/html": [
       "<div class=\"dni-plaintext\">215</div>"
      ]
     },
     "execution_count": 62,
     "metadata": {},
     "output_type": "execute_result"
    }
   ],
   "source": [
    "tzolkin1 - tzolkin2"
   ]
  },
  {
   "cell_type": "markdown",
   "metadata": {},
   "source": [
    "## Tzolk’in Year, Glyph Descriptions and Unicode Glyphs\n",
    "\n",
    "We get a F# map of all 260 days to the Tzolk’in days in the Tzolk’in year using `TzolkinDate.yearMap`, the same map as strings we get by using `TzolkinDate.yearStringMap`. "
   ]
  },
  {
   "cell_type": "code",
   "execution_count": 63,
   "metadata": {
    "dotnet_interactive": {
     "language": "fsharp"
    }
   },
   "outputs": [
    {
     "data": {
      "text/html": [
       "<table><thead><tr><th><i>key</i></th><th>value</th></tr></thead><tbody><tr><td><div class=\"dni-plaintext\">1</div></td><td><div class=\"dni-plaintext\">1 Imix</div></td></tr><tr><td><div class=\"dni-plaintext\">2</div></td><td><div class=\"dni-plaintext\">2 Ikʼ</div></td></tr><tr><td><div class=\"dni-plaintext\">3</div></td><td><div class=\"dni-plaintext\">3 Akʼbʼal</div></td></tr><tr><td><div class=\"dni-plaintext\">4</div></td><td><div class=\"dni-plaintext\">4 Kʼan</div></td></tr><tr><td><div class=\"dni-plaintext\">5</div></td><td><div class=\"dni-plaintext\">5 Chikchan</div></td></tr><tr><td><div class=\"dni-plaintext\">6</div></td><td><div class=\"dni-plaintext\">6 Kimi</div></td></tr><tr><td><div class=\"dni-plaintext\">7</div></td><td><div class=\"dni-plaintext\">7 Manikʼ</div></td></tr><tr><td><div class=\"dni-plaintext\">8</div></td><td><div class=\"dni-plaintext\">8 Lamat</div></td></tr><tr><td><div class=\"dni-plaintext\">9</div></td><td><div class=\"dni-plaintext\">9 Muluk</div></td></tr><tr><td><div class=\"dni-plaintext\">10</div></td><td><div class=\"dni-plaintext\">10 Ok</div></td></tr><tr><td><div class=\"dni-plaintext\">11</div></td><td><div class=\"dni-plaintext\">11 Chuwen</div></td></tr><tr><td><div class=\"dni-plaintext\">12</div></td><td><div class=\"dni-plaintext\">12 Ebʼ</div></td></tr><tr><td><div class=\"dni-plaintext\">13</div></td><td><div class=\"dni-plaintext\">13 Bʼen</div></td></tr><tr><td><div class=\"dni-plaintext\">14</div></td><td><div class=\"dni-plaintext\">1 Ix</div></td></tr><tr><td><div class=\"dni-plaintext\">15</div></td><td><div class=\"dni-plaintext\">2 Men</div></td></tr><tr><td><div class=\"dni-plaintext\">16</div></td><td><div class=\"dni-plaintext\">3 Kʼibʼ</div></td></tr><tr><td><div class=\"dni-plaintext\">17</div></td><td><div class=\"dni-plaintext\">4 Kabʼan</div></td></tr><tr><td><div class=\"dni-plaintext\">18</div></td><td><div class=\"dni-plaintext\">5 Etzʼnabʼ</div></td></tr><tr><td><div class=\"dni-plaintext\">19</div></td><td><div class=\"dni-plaintext\">6 Kawak</div></td></tr><tr><td><div class=\"dni-plaintext\">20</div></td><td><div class=\"dni-plaintext\">7 Ajaw</div></td></tr><tr><td colspan=\"2\">(240 more)</td></tr></tbody></table>"
      ]
     },
     "execution_count": 63,
     "metadata": {},
     "output_type": "execute_result"
    }
   ],
   "source": [
    "TzolkinDate.yearStringMap ()"
   ]
  },
  {
   "cell_type": "markdown",
   "metadata": {},
   "source": [
    "`TzolkinDate.dayInYear` returns the number of the Tzolk’in date in the Tzolk’in year, an inte between 1 and 260 (including 1 and 260). 13 Kabʼan is the 117th day of the Tzolk’in year:"
   ]
  },
  {
   "cell_type": "code",
   "execution_count": 64,
   "metadata": {
    "dotnet_interactive": {
     "language": "fsharp"
    }
   },
   "outputs": [
    {
     "data": {
      "text/html": [
       "<div class=\"dni-plaintext\">117</div>"
      ]
     },
     "execution_count": 64,
     "metadata": {},
     "output_type": "execute_result"
    }
   ],
   "source": [
    "let tzolkin =  TzolkinDate.create (TzolkinNumber.T.TzolkinNumber 13) (TzolkinGlyph.T.TzolkinGlyph 17)\n",
    "    \n",
    "TzolkinDate.dayInYear tzolkin"
   ]
  },
  {
   "cell_type": "markdown",
   "metadata": {},
   "source": [
    "This is the same as the function `toInt`:"
   ]
  },
  {
   "cell_type": "code",
   "execution_count": 65,
   "metadata": {
    "dotnet_interactive": {
     "language": "fsharp"
    }
   },
   "outputs": [
    {
     "data": {
      "text/html": [
       "<div class=\"dni-plaintext\">117</div>"
      ]
     },
     "execution_count": 65,
     "metadata": {},
     "output_type": "execute_result"
    }
   ],
   "source": [
    "TzolkinDate.toInt tzolkin"
   ]
  },
  {
   "cell_type": "markdown",
   "metadata": {},
   "source": [
    "You can get the description contained in a `TzolkinGlyph.GlyphDescription` record of a Tzolk’in day glyph in spanish using the function `TzolkinGlyph.getDescription`:"
   ]
  },
  {
   "cell_type": "code",
   "execution_count": 66,
   "metadata": {
    "dotnet_interactive": {
     "language": "fsharp"
    }
   },
   "outputs": [
    {
     "data": {
      "text/html": [
       "<table><thead><tr><th>Meaning</th><th>ElementOrAnimal</th><th>Direction</th><th>Color</th><th>God</th><th>Url</th></tr></thead><tbody><tr><td><div class=\"dni-plaintext\">Tierra</div></td><td><div class=\"dni-plaintext\">Tierra y los temblores</div></td><td><div class=\"dni-plaintext\">sur</div></td><td><div class=\"dni-plaintext\">amarillo</div></td><td><div class=\"dni-plaintext\">diosa I o diosa de la sensualidad y el amor</div></td><td><div class=\"dni-plaintext\">https://arqueologiamexicana.mx/dias-mayas</div></td></tr></tbody></table>"
      ]
     },
     "execution_count": 66,
     "metadata": {},
     "output_type": "execute_result"
    }
   ],
   "source": [
    "let tzolkinG = TzolkinGlyph.T.TzolkinGlyph 17\n",
    "\n",
    "TzolkinGlyph.getDescription tzolkinG"
   ]
  },
  {
   "cell_type": "markdown",
   "metadata": {},
   "source": [
    "`TzolkinNumber` and `TzolkinGlyph` contain a function `toUnicode`, that returns the Unicode code point for the Tzolk’in day number or Tzolk’in day glyph. As of now, these code points are not yet part of the Unicode standard, but will be included in the future. I made a TTF font containing these numbers and glyphs, that you can use under the CC BY-SA 4.0 license at [GitHub](https://github.com/Release-Candidate/Tzolkin/blob/main/src/Tzolkin/Tzolkin.ttf)."
   ]
  },
  {
   "cell_type": "code",
   "execution_count": 67,
   "metadata": {
    "dotnet_interactive": {
     "language": "fsharp"
    }
   },
   "outputs": [
    {
     "data": {
      "text/plain": [
       "𕎱"
      ]
     },
     "execution_count": 67,
     "metadata": {},
     "output_type": "execute_result"
    }
   ],
   "source": [
    "let tzolkin =  TzolkinDate.create (TzolkinNumber.T.TzolkinNumber 13) (TzolkinGlyph.T.TzolkinGlyph 17)\n",
    "    \n",
    "TzolkinNumber.toUnicode tzolkin.Number"
   ]
  },
  {
   "cell_type": "code",
   "execution_count": 68,
   "metadata": {
    "dotnet_interactive": {
     "language": "fsharp"
    }
   },
   "outputs": [
    {
     "data": {
      "text/plain": [
       "𕐖"
      ]
     },
     "execution_count": 68,
     "metadata": {},
     "output_type": "execute_result"
    }
   ],
   "source": [
    "TzolkinGlyph.toUnicode tzolkin.Glyph"
   ]
  },
  {
   "cell_type": "markdown",
   "metadata": {},
   "source": [
    "&copy; 2021 Roland Csaszar, licensed under the MIT license."
   ]
  }
 ],
 "metadata": {
  "kernelspec": {
   "display_name": ".NET (F#)",
   "language": "F#",
   "name": ".net-fsharp"
  },
  "language_info": {
   "file_extension": ".fs",
   "mimetype": "text/x-fsharp",
   "name": "C#",
   "pygments_lexer": "fsharp",
   "version": "4.5"
  }
 },
 "nbformat": 4,
 "nbformat_minor": 4
}
